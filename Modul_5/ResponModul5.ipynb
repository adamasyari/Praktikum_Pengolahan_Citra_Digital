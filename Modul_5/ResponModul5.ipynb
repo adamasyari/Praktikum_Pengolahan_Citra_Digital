{
 "cells": [
  {
   "attachments": {},
   "cell_type": "markdown",
   "metadata": {},
   "source": [
    "## Respon Modul 5"
   ]
  },
  {
   "cell_type": "code",
   "execution_count": 1,
   "metadata": {},
   "outputs": [],
   "source": [
    "import numpy as np\n",
    "import cv2 as cv\n",
    "import matplotlib.pyplot as plt"
   ]
  },
  {
   "cell_type": "code",
   "execution_count": null,
   "metadata": {},
   "outputs": [],
   "source": [
    "def mean(matriks):\n",
    "    array = np.sum(matriks)\n",
    "    kolom, baris = matriks.shape \n",
    "    return (array / (kolom * baris))\n",
    "\n",
    "def meanFiltering(kolom, baris):\n",
    "    kolom2, baris2 = int((kolom - 1) / 2), int((baris - 1) / 2)\n",
    "    for i in range(kolom2):\n",
    "        for j in range(baris):\n",
    "            hasil[i, j] = mean([i:i + kolom, j:j + baris])\n",
    "    return hasil"
   ]
  }
 ],
 "metadata": {
  "kernelspec": {
   "display_name": "Python 3",
   "language": "python",
   "name": "python3"
  },
  "language_info": {
   "codemirror_mode": {
    "name": "ipython",
    "version": 3
   },
   "file_extension": ".py",
   "mimetype": "text/x-python",
   "name": "python",
   "nbconvert_exporter": "python",
   "pygments_lexer": "ipython3",
   "version": "3.11.3"
  },
  "orig_nbformat": 4
 },
 "nbformat": 4,
 "nbformat_minor": 2
}
